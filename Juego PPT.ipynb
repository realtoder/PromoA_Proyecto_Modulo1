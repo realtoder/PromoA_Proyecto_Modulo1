{
 "cells": [
  {
   "cell_type": "code",
   "execution_count": 16,
   "metadata": {},
   "outputs": [
    {
     "name": "stdout",
     "output_type": "stream",
     "text": [
      "¡Hola, Marisa !\n",
      "Sabemos que la espera para la obtención de la ciudadanía puede hacerse muy pesada, así que hemos ideado este juego para que te entretengas mientras haces los trámites.\n",
      "______________________________________________________________________\n",
      "Recuerda que el papel gana a la piedra, la tijera al papel y la piedra a la tijera. Ganará el primer jugador que obtenga 3 puntos.\n",
      "Una vez comenzado el juego, puedes abandonarlo pulsando la tecla x.\n",
      "_____________________________________________________________________\n",
      "Los dos habéis escogido piedra. El marcador se mantiene a 0 - 0.\n",
      "______________________________________________________________________________\n",
      "Los dos habéis escogido papel. El marcador se mantiene a 0 - 0.\n",
      "______________________________________________________________________________\n",
      "Has abandonado el juego. ¡Hasta pronto!\n"
     ]
    }
   ],
   "source": [
    "import random\n",
    "\n",
    "puntos_jugador = 0\n",
    "puntos_ordenador = 0\n",
    "opciones = ('piedra','papel','tijera') \n",
    "\n",
    "nombre = input('¿Cómo te llamas?')\n",
    "print('¡Hola,', nombre,'!') \n",
    "print('Sabemos que la espera para la obtención de la ciudadanía puede hacerse muy pesada, así que hemos ideado este juego para que te entretengas mientras haces los trámites.')\n",
    "print(\"______________________________________________________________________\")\n",
    "print('Recuerda que el papel gana a la piedra, la tijera al papel y la piedra a la tijera. Ganará el primer jugador que obtenga 3 puntos.')\n",
    "print('Una vez comenzado el juego, puedes abandonarlo pulsando la tecla x.')\n",
    "print('_____________________________________________________________________')\n",
    "\n",
    "\n",
    "while puntos_jugador < 3 and puntos_ordenador < 3:\n",
    "    jugador = input('Escribe piedra, papel o tijera').lower()\n",
    "    if jugador == 'x':\n",
    "        print('Has abandonado el juego. ¡Hasta pronto!')\n",
    "        break\n",
    "    if jugador not in opciones:\n",
    "        print('Opción inválida. Escoge entre piedra, papel o tijera.')\n",
    "        print('____________________________________________________________________________')\n",
    "\n",
    "        continue\n",
    "\n",
    "    ordenador = random.choice(opciones)\n",
    "\n",
    "\n",
    "    if jugador == ordenador:\n",
    "        print(f'Los dos habéis escogido {jugador}. El marcador se mantiene a {puntos_jugador} - {puntos_ordenador}.')\n",
    "        print('______________________________________________________________________________')\n",
    "    elif jugador == 'piedra':\n",
    "        if ordenador == 'tijera':\n",
    "            puntos_jugador += 1 \n",
    "            print(f\"Has escogido {jugador} y el ordenador, {ordenador}. ¡Has ganado! Vais {puntos_jugador} - {puntos_ordenador}\")\n",
    "            print('__________________________________________________________________________')\n",
    "        else:\n",
    "            puntos_ordenador +=1\n",
    "            print(f\"¡Has perdido! Vais {puntos_jugador} - {puntos_ordenador}.\")\n",
    "            print('__________________________________________________________________________')\n",
    "    elif jugador == 'papel':\n",
    "        if ordenador == 'piedra':\n",
    "            puntos_jugador +=1\n",
    "            print(f\"Has escogido {jugador} y el ordenador, {ordenador}. ¡Has ganado! Vais {puntos_jugador} - {puntos_ordenador}.\")\n",
    "            print('__________________________________________________________________________')\n",
    "        else:\n",
    "            puntos_ordenador +=1\n",
    "            print(f\"Has escogido {jugador} y el ordenador, {ordenador}. Has perdido... Vais {puntos_jugador} - {puntos_ordenador}.\")\n",
    "            print('__________________________________________________________________________')\n",
    "    elif jugador == 'tijera':\n",
    "        if ordenador == 'papel':\n",
    "            puntos_jugador +=1\n",
    "            print(f\"Has escogido {jugador} y el ordenador, {ordenador}. ¡Has ganado! Vais {puntos_jugador} - {puntos_ordenador}.\")\n",
    "            print('__________________________________________________________________________')\n",
    "        else:\n",
    "            puntos_ordenador +=1\n",
    "            print(f\"Has escogido {jugador} y el ordenador, {ordenador}. Has perdido... Vais {puntos_jugador} - {puntos_ordenador}.\")\n",
    "            print('__________________________________________________________________________')\n",
    "\n",
    "if jugador != 'x':  # Añadido para evitar imprimir el mensaje de victoria si el usuario abandona mientras está ganando\n",
    "    if puntos_jugador > puntos_ordenador:\n",
    "        print(f'¡Enhorabuena, {nombre}, has ganado el juego! El resultado final es {puntos_jugador} - {puntos_ordenador}.')\n",
    "    elif puntos_jugador < puntos_ordenador:\n",
    "        print(f'¡Lo sentimos, {nombre}, has perdido el juego! El resultado final es {puntos_jugador} - {puntos_ordenador} ¡Vuelve a intentarlo!')"
   ]
  }
 ],
 "metadata": {
  "kernelspec": {
   "display_name": "base",
   "language": "python",
   "name": "python3"
  },
  "language_info": {
   "codemirror_mode": {
    "name": "ipython",
    "version": 3
   },
   "file_extension": ".py",
   "mimetype": "text/x-python",
   "name": "python",
   "nbconvert_exporter": "python",
   "pygments_lexer": "ipython3",
   "version": "3.9.6"
  }
 },
 "nbformat": 4,
 "nbformat_minor": 2
}
