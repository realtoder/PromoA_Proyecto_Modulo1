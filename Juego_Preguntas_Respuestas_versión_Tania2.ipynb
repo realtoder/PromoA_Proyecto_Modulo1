{
 "cells": [
  {
   "cell_type": "markdown",
   "metadata": {},
   "source": [
    "VERSIÓN TANIA 2\n",
    "1. Damos la bienvenida al usuario."
   ]
  },
  {
   "cell_type": "code",
   "execution_count": 2,
   "metadata": {},
   "outputs": [
    {
     "name": "stdout",
     "output_type": "stream",
     "text": [
      "Hola T\n",
      "Te damos la bienvenida al juego de Preguntas y Respuestas, edición especial Geografía\n"
     ]
    }
   ],
   "source": [
    "nombre = input(\"Antes de empezar a jugar dinos tu nombre\")\n",
    "print(\"Hola\", nombre)\n",
    "print(\"Te damos la bienvenida al juego de Preguntas y Respuestas, edición especial Geografía\")\n",
    "#Podemos preguntarle por su nombre, pero es algo opcional"
   ]
  },
  {
   "cell_type": "markdown",
   "metadata": {},
   "source": [
    "2. Creamos un diccionario con las preguntas de geografía como claves y las respuestas como valores"
   ]
  },
  {
   "cell_type": "code",
   "execution_count": 3,
   "metadata": {},
   "outputs": [
    {
     "data": {
      "text/plain": [
       "{'¿Cuál es la capital de España?': 'Madrid',\n",
       " 'Con qué país limita España al oeste': 'Portugal',\n",
       " '¿Qué río pasa por París': 'Sena',\n",
       " '¿Qué país es más grande: España o Alemania?': 'España',\n",
       " '¿En qué país se encuentra la provincia de Jujuy': 'Argentina',\n",
       " '¿Qué cordillera separa Argentina de Chile': 'Andes',\n",
       " '¿Cuál es la capital de Brasil': 'Brasilia',\n",
       " '¿Cuántos estados tiene Estados Unidos': '50',\n",
       " '¿Cuántos idiomas oficiales tiene Canadá?': '2',\n",
       " '¿Qué Estrecho separa Asia de América?': 'Bering'}"
      ]
     },
     "execution_count": 3,
     "metadata": {},
     "output_type": "execute_result"
    }
   ],
   "source": [
    "#Creamos el diccionario con las preguntas como clave y las respuestas como valor.\n",
    "preguntas_respuestas = {\"¿Cuál es la capital de España?\": \"Madrid\", \"Con qué país limita España al oeste\": \"Portugal\", \"¿Qué río pasa por París\": \"Sena\", \"¿Qué país es más grande: España o Alemania?\":\"España\", \"¿En qué país se encuentra la provincia de Jujuy\":\"Argentina\", \"¿Qué cordillera separa Argentina de Chile\":\"Andes\", \"¿Cuál es la capital de Brasil\": \"Brasilia\", \"¿Cuántos estados tiene Estados Unidos\" :\"50\", \"¿Cuántos idiomas oficiales tiene Canadá?\": \"2\", \"¿Qué Estrecho separa Asia de América?\" : \"Bering\"}\n",
    "preguntas_respuestas"
   ]
  },
  {
   "cell_type": "markdown",
   "metadata": {},
   "source": [
    "3. Establecemos las condiciones necesarias para jugar."
   ]
  },
  {
   "cell_type": "code",
   "execution_count": 4,
   "metadata": {},
   "outputs": [
    {
     "name": "stdout",
     "output_type": "stream",
     "text": [
      "Recuerda que tienes tres intentos para responder correctamente las diez preguntas de geografía\n",
      "¡Comienza el juego!\n"
     ]
    }
   ],
   "source": [
    "#Definimos la PRIMERA GRAN CONDICIÓN, si quiere comenzar a jugar o no.\n",
    "partida = input(\"¿Comenzamos?: s/n\")\n",
    "if partida.lower() == \"s\":\n",
    "    print(\"Recuerda que tienes tres intentos para responder correctamente las diez preguntas de geografía\\n\"\n",
    "          \"¡Comienza el juego!\")\n",
    "else:\n",
    "    print(f\"Ok {nombre} el juego no se va a borrar del mapa así que vuelve cuando quieras comezar a jugar\")\n"
   ]
  },
  {
   "cell_type": "code",
   "execution_count": 5,
   "metadata": {},
   "outputs": [
    {
     "name": "stdout",
     "output_type": "stream",
     "text": [
      "La respuesta correcta era: Madrid\n",
      "¡Correcto!\n",
      "¡Correcto!\n",
      "La respuesta correcta era: España\n",
      "La respuesta correcta era: Argentina\n"
     ]
    }
   ],
   "source": [
    "#Definimos EL GRAN BUCLE WHILE que nos permita avanzar por las 10 preguntas que le tenemos que hacer al usuario. \n",
    "#Siempre y cuando no supere los 3 intentos.\n",
    "#Definimos las variables que nos permitirán controlar este primer gran bucle.\n",
    "\n",
    "contador_preguntas = 0\n",
    "intentos = 0\n",
    "aciertos = 0\n",
    "\n",
    "while contador_preguntas < 10 and intentos < 3:\n",
    "#Definimos la variables que nos permitirán establecer las condiciones del juego.\n",
    "    pregunta_en_juego = list(preguntas_respuestas.keys())[contador_preguntas]\n",
    "    respuesta_correcta = list(preguntas_respuestas.values())[contador_preguntas]\n",
    "    respuesta_usuario = input(pregunta_en_juego + \":\")\n",
    "\n",
    "    if respuesta_usuario.lower() == respuesta_correcta.lower():\n",
    "        aciertos += 1\n",
    "        contador_preguntas += 1\n",
    "        print(\"¡Correcto!\")\n",
    "        \n",
    "    else:\n",
    "        intentos +=1\n",
    "        print(\"La respuesta correcta era:\", respuesta_correcta)\n",
    "        contador_preguntas += 1\n"
   ]
  },
  {
   "cell_type": "code",
   "execution_count": 12,
   "metadata": {},
   "outputs": [
    {
     "name": "stdout",
     "output_type": "stream",
     "text": [
      "La respuesta correcta era: Madrid\n",
      "La respuesta correcta era: Portugal\n",
      "La respuesta correcta era: Sena\n",
      "Has perdido\n",
      "Bienvenido de nuevo\n"
     ]
    }
   ],
   "source": [
    "#MEJORAMOS EL CÓDIGO Y AÑADIMOS SENTENCIAS DE CONTROL QUE NOS PERMITEN...\n",
    "# ... PERSONALIZAR LOS MENSAJES EN FUNCIÓN DE LOS ACIERTOS Y/O ERRORES DEL JUGADOR.\n",
    "contador_preguntas = 0\n",
    "intentos = 0\n",
    "aciertos = 0\n",
    "juego_ganado = False\n",
    "\n",
    "while contador_preguntas < 10 and intentos < 3:\n",
    "#Definimos la variables que nos permitirán establecer las condiciones del juego.\n",
    "    pregunta_en_juego = list(preguntas_respuestas.keys())[contador_preguntas]\n",
    "    respuesta_correcta = list(preguntas_respuestas.values())[contador_preguntas]\n",
    "    respuesta_usuario = input(pregunta_en_juego + \": \")\n",
    "\n",
    "    if respuesta_usuario.lower() == respuesta_correcta.lower():\n",
    "        aciertos += 1\n",
    "        contador_preguntas += 1\n",
    "        print(\"¡Correcto!\")\n",
    "        \n",
    "        #En función de los aciertos, definir un if/else de mensajes final. TERMINAR DE COMPLETAR\n",
    "        if aciertos == 10 :\n",
    "            print(\"¡Enhorabuena! Has hecho pleno\")\n",
    "\n",
    "    else:\n",
    "        intentos +=1\n",
    "        print(\"La respuesta correcta era:\", respuesta_correcta)\n",
    "        contador_preguntas += 1\n",
    "\n",
    "if aciertos < 10 and intentos < 3 and juego_ganado == False:\n",
    "    print(\"¡Ganaste el juego\")\n",
    "else:\n",
    "    print(\"Has perdido\")\n",
    "    repetir_partida = input(f\"¿Quieres volver a intentarlo, {nombre}?\"  \"s/n\")\n",
    "\n",
    "if repetir_partida.lower() == \"s\" :\n",
    "    print(\"Bienvenido de nuevo\")\n",
    "else: \n",
    "    print(f\"Ok {nombre} el juego no se va a borrar del mapa así que vuelve cuando quieras comezar a jugar\")\n"
   ]
  },
  {
   "cell_type": "code",
   "execution_count": null,
   "metadata": {},
   "outputs": [],
   "source": [
    "#EN EL SIGUIENTE BLOQUE DE CÓDIGO, TRATÉ DE DEFINIR UNA FUNCIÓN PARA VOLVER A CARGAR EL CÓDIGO Y QUE EMPIECE DE NUEVO EL JUEGO TANTAS VECES\n",
    "#COMO EL USUARIO QUIERA."
   ]
  },
  {
   "cell_type": "code",
   "execution_count": 36,
   "metadata": {},
   "outputs": [
    {
     "name": "stdout",
     "output_type": "stream",
     "text": [
      "La respuesta correcta era: 50\n",
      "La respuesta correcta era: Madrid\n",
      "La respuesta correcta era: Sena\n",
      "Has perdido\n",
      "Ok T el juego no se va a borrar del mapa así que vuelve cuando quieras comezar a jugar\n"
     ]
    }
   ],
   "source": [
    "#Para darle a todos los jugadores la posibilidad de volver a jugar, incluso a aquellos que han hecho un pleno de aciertos, usaremos la función random, que hará que el juego resulte menos repetitivo.\n",
    "import random\n",
    "\n",
    "#Seguimos DEFINIENDO la función de jugar al juego, usando como parámetros las claves del diccionario de preguntas y respuestas.\n",
    "def jugar_juego(pregunta_en_juego, respuesta_correcta):\n",
    "    intentos = 0\n",
    "    aciertos = 0\n",
    "    contador_preguntas = 0\n",
    "\n",
    "    while contador_preguntas < 10 and intentos < 3:\n",
    "    #El uso de RANDOM da algunos errores y repite las preguntas. TERMINAR DE PULIR.\n",
    "        pregunta_en_juego, respuesta_correcta = random.choice(list(preguntas_respuestas.items()))\n",
    "        respuesta_usuario = input(pregunta_en_juego + \": \")\n",
    "\n",
    "        if respuesta_usuario.lower() == respuesta_correcta.lower():\n",
    "            aciertos += 1\n",
    "            contador_preguntas += 1\n",
    "            print(\"¡Correcto!\")\n",
    "        \n",
    "        else:\n",
    "            intentos +=1\n",
    "            print(\"La respuesta correcta era:\", respuesta_correcta)\n",
    "            contador_preguntas += 1\n",
    "\n",
    "    if aciertos == 10 :\n",
    "        print(\"¡Enhorabuena! Has hecho pleno\")    \n",
    "        repetir_partida = input(f\"¿Quieres repetir el pleno, {nombre}?   s/n\")\n",
    "        if repetir_partida.lower() == \"s\" :\n",
    "            print(f\"Allá vamos de nuevo, {nombre}\")\n",
    "    #HE LOGRADO QUE LA FUNCIÓN SE LLAME A SÍ MISMA Y VUELVA A COMENZAR EL JUEGO. \n",
    "            jugar_juego(pregunta_en_juego, respuesta_correcta)\n",
    "        else: \n",
    "            print(f\"Ok {nombre}, te esperamos para volver a recorrer el mundo\")\n",
    "        #EL RETURN HACE LAS FUNCIONES DE BREAK Y SALE DEL JUEGO\n",
    "        return\n",
    "    elif aciertos < 10 and intentos < 3:\n",
    "        print(\"¡Ganaste el juego\")\n",
    "        repetir_partida = input(f\"¿Quieres repetir y tratar de hacer un pleno, {nombre}?   s/n\")\n",
    "        if repetir_partida.lower() == \"s\" :\n",
    "            print(f\"Alla vamos de nuevo, {nombre}\")\n",
    "    #HE LOGRADO QUE LA FUNCIÓN SE LLAME A SÍ MISMA Y VUELVA A COMENZAR EL JUEGO. \n",
    "            jugar_juego(pregunta_en_juego, respuesta_correcta)\n",
    "        else: \n",
    "            print(f\"Ok {nombre}, te esperamos para volver a recorrer el mundo\") \n",
    "            #EL RETURN HACE LAS FUNCIONES DE BREAK Y SALE DEL JUEGO\n",
    "            return\n",
    "    else:\n",
    "        print(\"Has perdido\")\n",
    "        repetir_partida = input(f\"¿Quieres volver a intentarlo, {nombre}?  s/n\")\n",
    "\n",
    "    if repetir_partida.lower() == \"s\" :\n",
    "        print(f\"Hola de nuevo, {nombre}\")\n",
    "    #HE LOGRADO QUE LA FUNCIÓN SE LLAME A SÍ MISMA Y VUELVA A COMENZAR EL JUEGO. \n",
    "        jugar_juego(pregunta_en_juego, respuesta_correcta)\n",
    "    else: \n",
    "        print(f\"Ok {nombre} el juego no se va a borrar del mapa así que vuelve cuando quieras comezar a jugar\")\n",
    "        #EL RETURN HACE LAS FUNCIONES DE BREAK Y SALE DEL JUEGO\n",
    "        return \n",
    "\n",
    "jugar_juego(pregunta_en_juego, respuesta_correcta)"
   ]
  },
  {
   "cell_type": "code",
   "execution_count": null,
   "metadata": {},
   "outputs": [],
   "source": [
    "#FALTA TERMINAR DE PULIR EL RANDOM\n",
    "#RESOLVER DUDA: ¿MANTENGO TODA LA EVOLUCIÓN DEL CÓDIGO O SOLO LA PARTE FINAL CON LA FUNCIÓN?"
   ]
  }
 ],
 "metadata": {
  "kernelspec": {
   "display_name": ".venv",
   "language": "python",
   "name": "python3"
  },
  "language_info": {
   "codemirror_mode": {
    "name": "ipython",
    "version": 3
   },
   "file_extension": ".py",
   "mimetype": "text/x-python",
   "name": "python",
   "nbconvert_exporter": "python",
   "pygments_lexer": "ipython3",
   "version": "3.11.5"
  }
 },
 "nbformat": 4,
 "nbformat_minor": 2
}
