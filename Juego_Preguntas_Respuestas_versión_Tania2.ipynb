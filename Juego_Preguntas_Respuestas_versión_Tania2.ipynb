{
 "cells": [
  {
   "cell_type": "markdown",
   "metadata": {},
   "source": [
    "VERSIÓN TANIA 2\n",
    "1. Damos la bienvenida al usuario."
   ]
  },
  {
   "cell_type": "code",
   "execution_count": null,
   "metadata": {},
   "outputs": [],
   "source": [
    "print(\"Bienvenido al juego de Preguntas y Respuestas, edición especial Geografía\")\n",
    "#Podemos preguntarle por su nombre, pero es algo opcional\n",
    "nombre = input(\"Antes de empezar a jugar dinos tu nombre\")\n",
    "print(\"Hola\", nombre)"
   ]
  },
  {
   "cell_type": "markdown",
   "metadata": {},
   "source": [
    "2. Creamos un diccionario con las preguntas de geografía como claves y las respuestas como valores"
   ]
  },
  {
   "cell_type": "code",
   "execution_count": 2,
   "metadata": {},
   "outputs": [
    {
     "data": {
      "text/plain": [
       "{'¿Cuál es la capital de España?': 'Madrid',\n",
       " 'Con qué países limita España': ['Andorra', 'Portugal'],\n",
       " '¿Qué río pasa por París': 'El Sena',\n",
       " '¿Qué país es más grande: España o Alemania?': 'España',\n",
       " '¿En qué país se encuentra la provincia de Jujuy': 'Argentina',\n",
       " '¿Qué cordillera separa Argentina de Chile': 'Los Andes',\n",
       " '¿Cuál es la capital de Brasil': 'Brasilia',\n",
       " '¿Cuántos estados tiene Estados Unidos': 48,\n",
       " '¿Cuántos idiomas oficiales tiene Canadá?': 2,\n",
       " '¿Qué continentes separa el Estrecho de Bering': ['Asia', 'América']}"
      ]
     },
     "execution_count": 2,
     "metadata": {},
     "output_type": "execute_result"
    }
   ],
   "source": [
    "#Creamos el diccionario con las preguntas como clave y las respuestas como valor.\n",
    "preguntas_respuestas = {\"¿Cuál es la capital de España?\": \"Madrid\", \"Con qué países limita España\":[\"Andorra\", \"Portugal\"], \"¿Qué río pasa por París\": \"El Sena\", \"¿Qué país es más grande: España o Alemania?\":\"España\", \"¿En qué país se encuentra la provincia de Jujuy\":\"Argentina\", \"¿Qué cordillera separa Argentina de Chile\":\"Los Andes\", \"¿Cuál es la capital de Brasil\": \"Brasilia\", \"¿Cuántos estados tiene Estados Unidos\" : 48, \"¿Cuántos idiomas oficiales tiene Canadá?\": 2, \"¿Qué continentes separa el Estrecho de Bering\": [\"Asia\",\"América\"]}\n",
    "preguntas_respuestas"
   ]
  },
  {
   "cell_type": "markdown",
   "metadata": {},
   "source": [
    "3. Establecemos las condiciones necesarias para jugar."
   ]
  },
  {
   "cell_type": "code",
   "execution_count": 3,
   "metadata": {},
   "outputs": [
    {
     "name": "stdout",
     "output_type": "stream",
     "text": [
      "¡Comienza el juego!\n"
     ]
    }
   ],
   "source": [
    "#Creamos la primera gran condición, si quiere comenzar a jugar o no.\n",
    "partida = input(\"¿Comenzamos?: S/N\")\n",
    "if partida.upper() == \"S\":\n",
    "    print(\"¡Comienza el juego!\")\n",
    "else:\n",
    "    print(\"Ok\", nombre, \"el juego no se va a borrar del mapa así que vuelve cuando quieras comezar a jugar\")\n"
   ]
  },
  {
   "cell_type": "code",
   "execution_count": null,
   "metadata": {},
   "outputs": [],
   "source": [
    "#Creamos el primer gran bucle (while) que nos permita avanzar por las 10 preguntas que le tenemos que hacer al usuario.\n",
    "contador_preguntas = 0\n",
    "\n",
    "while contador_preguntas <= 10 :\n",
    "    pregunta, respuesta = preguntas_respuestas.pop"
   ]
  },
  {
   "cell_type": "code",
   "execution_count": 16,
   "metadata": {},
   "outputs": [
    {
     "name": "stdout",
     "output_type": "stream",
     "text": [
      "¿Cuál es la capital de España?\n",
      "Con qué países limita España\n",
      "¿Qué río pasa por París\n",
      "¿Qué país es más grande: España o Alemania?\n",
      "¿En qué país se encuentra la provincia de Jujuy\n",
      "¿Qué cordillera separa Argentina de Chile\n",
      "¿Cuál es la capital de Brasil\n",
      "¿Cuántos estados tiene Estados Unidos\n",
      "¿Cuántos idiomas oficiales tiene Canadá?\n",
      "¿Qué continentes separa el Estrecho de Bering\n"
     ]
    }
   ],
   "source": [
    "#Creamos el primer gran bucle (for-in) que nos permita avanzar por las 10 preguntas que le tenemos que hacer al usuario.\n",
    "pregunta = preguntas_respuestas.keys()\n",
    "respuesta = preguntas_respuestas.values()\n",
    "\n",
    "total_preguntas = len(preguntas_respuestas)\n",
    "for pregunta, respuesta in preguntas_respuestas.items():\n",
    "    print(pregunta)\n",
    "    "
   ]
  },
  {
   "cell_type": "code",
   "execution_count": 14,
   "metadata": {},
   "outputs": [
    {
     "ename": "NameError",
     "evalue": "name 'preguntas' is not defined",
     "output_type": "error",
     "traceback": [
      "\u001b[0;31m---------------------------------------------------------------------------\u001b[0m",
      "\u001b[0;31mNameError\u001b[0m                                 Traceback (most recent call last)",
      "Cell \u001b[0;32mIn[14], line 6\u001b[0m\n\u001b[1;32m      3\u001b[0m respuesta_usuario \u001b[38;5;241m=\u001b[39m \u001b[38;5;28minput\u001b[39m(\u001b[38;5;28;01mNone\u001b[39;00m)\n\u001b[1;32m      5\u001b[0m \u001b[38;5;28;01mwhile\u001b[39;00m intentos \u001b[38;5;241m<\u001b[39m \u001b[38;5;241m3\u001b[39m :\n\u001b[0;32m----> 6\u001b[0m     respuesta \u001b[38;5;241m=\u001b[39m \u001b[38;5;28minput\u001b[39m(\u001b[38;5;124m\"\u001b[39m\u001b[38;5;124mPrimera pregunta:\u001b[39m\u001b[38;5;124m\"\u001b[39m, \u001b[38;5;28mlist\u001b[39m(preguntas\u001b[38;5;241m.\u001b[39mkeys())[\u001b[38;5;241m0\u001b[39m])\n\u001b[1;32m      7\u001b[0m     \u001b[38;5;28mprint\u001b[39m(respuesta)\n\u001b[1;32m      8\u001b[0m     \u001b[38;5;28;01mif\u001b[39;00m respuesta \u001b[38;5;241m==\u001b[39m \u001b[38;5;28mlist\u001b[39m(preguntas\u001b[38;5;241m.\u001b[39mvalues())[\u001b[38;5;241m0\u001b[39m]:\n",
      "\u001b[0;31mNameError\u001b[0m: name 'preguntas' is not defined"
     ]
    }
   ],
   "source": [
    "#Creamos el bucle que nos permitirá seguir jugando mientras que el usuario siga acertando y no acumule más de tres intentos.\n",
    "intentos = 0\n",
    "respuesta_usuario = None\n",
    "\n",
    "while intentos < 3 :\n",
    "    respuesta = input(\"Primera pregunta:\", list(preguntas.keys())[0])\n",
    "    print(respuesta)\n",
    "    if respuesta == list(preguntas.values())[0]:\n",
    "            print(\"¡Correcto! Siguiente pregunta\")\n",
    "    else:\n",
    "            print(list(preguntas.values())[0])\n",
    "            intentos += 1"
   ]
  }
 ],
 "metadata": {
  "kernelspec": {
   "display_name": ".venv",
   "language": "python",
   "name": "python3"
  },
  "language_info": {
   "codemirror_mode": {
    "name": "ipython",
    "version": 3
   },
   "file_extension": ".py",
   "mimetype": "text/x-python",
   "name": "python",
   "nbconvert_exporter": "python",
   "pygments_lexer": "ipython3",
   "version": "3.11.5"
  }
 },
 "nbformat": 4,
 "nbformat_minor": 2
}
