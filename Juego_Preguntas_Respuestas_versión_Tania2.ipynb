{
 "cells": [
  {
   "cell_type": "markdown",
   "metadata": {},
   "source": [
    "VERSIÓN TANIA 2\n",
    "1. Damos la bienvenida al usuario."
   ]
  },
  {
   "cell_type": "code",
   "execution_count": 9,
   "metadata": {},
   "outputs": [
    {
     "name": "stdout",
     "output_type": "stream",
     "text": [
      "Bienvenido al juego de Preguntas y Respuestas, edición especial Geografía\n",
      "Hola T\n"
     ]
    }
   ],
   "source": [
    "print(\"Bienvenido al juego de Preguntas y Respuestas, edición especial Geografía\")\n",
    "#Podemos preguntarle por su nombre, pero es algo opcional\n",
    "nombre = input(\"Antes de empezar a jugar dinos tu nombre\")\n",
    "print(\"Hola\", nombre)"
   ]
  },
  {
   "cell_type": "markdown",
   "metadata": {},
   "source": [
    "2. Creamos un diccionario con las preguntas de geografía como claves y las respuestas como valores"
   ]
  },
  {
   "cell_type": "code",
   "execution_count": 40,
   "metadata": {},
   "outputs": [
    {
     "data": {
      "text/plain": [
       "{'¿Cuál es la capital de España?': 'Madrid',\n",
       " 'Con qué país limita España al oeste': 'Portugal',\n",
       " '¿Qué río pasa por París': 'Sena',\n",
       " '¿Qué país es más grande: España o Alemania?': 'España',\n",
       " '¿En qué país se encuentra la provincia de Jujuy': 'Argentina',\n",
       " '¿Qué cordillera separa Argentina de Chile': 'Andes',\n",
       " '¿Cuál es la capital de Brasil': 'Brasilia',\n",
       " '¿Cuántos estados tiene Estados Unidos': '50',\n",
       " '¿Cuántos idiomas oficiales tiene Canadá?': '2',\n",
       " '¿Qué Estrecho separa Asia de América?': 'Bering'}"
      ]
     },
     "execution_count": 40,
     "metadata": {},
     "output_type": "execute_result"
    }
   ],
   "source": [
    "#Creamos el diccionario con las preguntas como clave y las respuestas como valor.\n",
    "preguntas_respuestas = {\"¿Cuál es la capital de España?\": \"Madrid\", \"Con qué país limita España al oeste\": \"Portugal\", \"¿Qué río pasa por París\": \"Sena\", \"¿Qué país es más grande: España o Alemania?\":\"España\", \"¿En qué país se encuentra la provincia de Jujuy\":\"Argentina\", \"¿Qué cordillera separa Argentina de Chile\":\"Andes\", \"¿Cuál es la capital de Brasil\": \"Brasilia\", \"¿Cuántos estados tiene Estados Unidos\" :\"50\", \"¿Cuántos idiomas oficiales tiene Canadá?\": \"2\", \"¿Qué Estrecho separa Asia de América?\" : \"Bering\"}\n",
    "preguntas_respuestas"
   ]
  },
  {
   "cell_type": "markdown",
   "metadata": {},
   "source": [
    "3. Establecemos las condiciones necesarias para jugar."
   ]
  },
  {
   "cell_type": "code",
   "execution_count": 25,
   "metadata": {},
   "outputs": [
    {
     "name": "stdout",
     "output_type": "stream",
     "text": [
      "Recuerda que tienes tres intentos para responder correctamente diez preguntas de geografía\n",
      "¡Comienza el juego!\n"
     ]
    }
   ],
   "source": [
    "#Creamos la primera gran condición, si quiere comenzar a jugar o no.\n",
    "partida = input(\"¿Comenzamos?: S/N\")\n",
    "if partida.upper() == \"S\":\n",
    "    print(\"Recuerda que tienes tres intentos para responder correctamente diez preguntas de geografía\\n\"\n",
    "          \"¡Comienza el juego!\")\n",
    "else:\n",
    "    print(\"Ok\", nombre, \"el juego no se va a borrar del mapa así que vuelve cuando quieras comezar a jugar\")\n"
   ]
  },
  {
   "cell_type": "code",
   "execution_count": 43,
   "metadata": {},
   "outputs": [
    {
     "name": "stdout",
     "output_type": "stream",
     "text": [
      "¡Correcto!\n",
      "¡Felicidades! Has ganado esta partida\n",
      "La respuesta correcta era: Portugal\n",
      "Parece que estamos un poco oxidados, ¿quieres volverlo a intentar?S/N\n",
      "La respuesta correcta era: Sena\n",
      "Parece que estamos un poco oxidados, ¿quieres volverlo a intentar?S/N\n",
      "La respuesta correcta era: España\n",
      "Parece que estamos un poco oxidados, ¿quieres volverlo a intentar?S/N\n"
     ]
    }
   ],
   "source": [
    "#Creamos el primer gran bucle (while) que nos permita avanzar por las 10 preguntas que le tenemos que hacer al usuario. Siempre y cuando no supere los 3 intentos.\n",
    "#Definimos las variables que nos permitirán controlar este primer gran bucle.\n",
    "\n",
    "contador_preguntas = 0\n",
    "intentos = 0\n",
    "aciertos = 0\n",
    "\n",
    "while contador_preguntas < 10 and intentos < 3:\n",
    "#Definimos la variables que nos permitirán establecer las condiciones del juego.\n",
    "    pregunta_en_juego = list(preguntas_respuestas.keys())[contador_preguntas]\n",
    "    respuesta_correcta = list(preguntas_respuestas.values())[contador_preguntas]\n",
    "    respuesta_usuario = input(pregunta_en_juego + \":\")\n",
    "\n",
    "    if respuesta_usuario.lower() == respuesta_correcta.lower():\n",
    "            aciertos += 1\n",
    "            contador_preguntas += 1\n",
    "            print(\"¡Correcto!\")\n",
    "\n",
    "    else:\n",
    "            intentos +=1\n",
    "            print(\"La respuesta correcta era:\", respuesta_correcta)\n",
    "            contador_preguntas += 1\n",
    "            print(\"Parece que estamos un poco oxidados\")\n"
   ]
  },
  {
   "cell_type": "code",
   "execution_count": null,
   "metadata": {},
   "outputs": [],
   "source": [
    "#Le damos al usuario la posibilidad de volver a repetir la partida \n",
    "repetir_partida = input(\"¿Quieres volverlo a intentar?\" \"S/N\")\n",
    "\n",
    "if repetir_partida.upper() == \"S\" :\n"
   ]
  }
 ],
 "metadata": {
  "kernelspec": {
   "display_name": ".venv",
   "language": "python",
   "name": "python3"
  },
  "language_info": {
   "codemirror_mode": {
    "name": "ipython",
    "version": 3
   },
   "file_extension": ".py",
   "mimetype": "text/x-python",
   "name": "python",
   "nbconvert_exporter": "python",
   "pygments_lexer": "ipython3",
   "version": "3.11.5"
  }
 },
 "nbformat": 4,
 "nbformat_minor": 2
}
