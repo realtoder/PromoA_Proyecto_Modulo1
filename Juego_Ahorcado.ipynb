{
 "cells": [
  {
   "cell_type": "markdown",
   "metadata": {},
   "source": [
    "Ahoracado: es un juego de adivinanzas en el que un jugador elige una palabra y el otro jugador debe adivinarla letra por letra. \n",
    "El jugador que adivina la palabra tiene un número limitado de oportunidades para adivinar las letras que forman la palabra. \n",
    "Cada vez que el jugador adivina una letra incorrecta, se dibuja una parte del cuerpo del personaje del ahorcado en una horca. \n",
    "Si el jugador adivina todas las letras de la palabra antes de que se complete el dibujo del personaje del ahorcado, gana el juego. \n",
    "Si el dibujo del personaje del ahorcado se completa antes de adivinar la palabra, pierde el juego."
   ]
  },
  {
   "cell_type": "code",
   "execution_count": null,
   "metadata": {},
   "outputs": [],
   "source": [
    "#Paso 1: Asignamos una palabra aleatoria\n",
    "#Dividimos la palabra en letras --> Lista de letras\n",
    "# El jugador avidina letra por letra\n",
    "########## - si es incorrecta, se dibuja una parte del cuerpo del personaje. Se guarda la letra en una variable de letras malas?\n",
    "########## - si es correcta, se muestras todas las letras que coincidan en la palabra y se guarda en una variables de letras mencionadas?\n",
    "#la cantidad de oportunidades del jugador depende del dibujo del ahorcado\n",
    "#el jugador sigue jugando en la medida que el ahorcado no se complete"
   ]
  },
  {
   "cell_type": "code",
   "execution_count": 2,
   "metadata": {},
   "outputs": [
    {
     "data": {
      "text/plain": [
       "['b', 'u', 'r', 'b', 'u', 'j', 'a', 's']"
      ]
     },
     "execution_count": 2,
     "metadata": {},
     "output_type": "execute_result"
    }
   ],
   "source": [
    "#Preparamos nuestra palabra\n",
    "palabra = 'burbujas'\n",
    "list_palabra = list(palabra)\n",
    "list_palabra"
   ]
  },
  {
   "cell_type": "code",
   "execution_count": 7,
   "metadata": {},
   "outputs": [
    {
     "name": "stdout",
     "output_type": "stream",
     "text": [
      "z\n"
     ]
    }
   ],
   "source": [
    "letra = input('Elige una letra')\n",
    "print(letra)\n"
   ]
  },
  {
   "cell_type": "code",
   "execution_count": 8,
   "metadata": {},
   "outputs": [],
   "source": [
    "if letra in list_palabra:\n",
    "    print('Correcto! Sigue así!')"
   ]
  },
  {
   "cell_type": "code",
   "execution_count": null,
   "metadata": {},
   "outputs": [],
   "source": [
    "#Preparamos el juego\n",
    "intentos = #numero de partes del cuerpo?\n",
    "\n",
    "#While intentos < X:\n",
    "\n",
    "letra = input('Elige una letra')\n",
    "    ## si la letra es correcta:\n",
    "#print('Correcto! Sigue así!')\n",
    "\n",
    "    ## si la letra no es correcta:\n",
    "#Print ('Ups! una oportunidad menos')\n"
   ]
  },
  {
   "cell_type": "code",
   "execution_count": 2,
   "metadata": {},
   "outputs": [
    {
     "name": "stdout",
     "output_type": "stream",
     "text": [
      "Correcto! Sigue así!\n",
      "Ups! una oportunidad menos\n"
     ]
    }
   ],
   "source": [
    "#intento 1\n",
    "palabra = 'burbujas'\n",
    "list_palabra = list(palabra)\n",
    "list_palabra\n",
    "\n",
    "intentos = 0\n",
    "\n",
    "while intentos < 6:\n",
    "    letra = input('Elige una letra')\n",
    "    if letra in list_palabra:\n",
    "          print('Correcto! Sigue así!')\n",
    "    else: \n",
    "          print('Ups! una oportunidad menos')\n",
    "          intentos +=1\n",
    "if intentos == 6:\n",
    "     print('Lo siento! te has ahorcado')\n",
    "\n"
   ]
  },
  {
   "cell_type": "code",
   "execution_count": 2,
   "metadata": {},
   "outputs": [
    {
     "name": "stdout",
     "output_type": "stream",
     "text": [
      "Bienvenido al juego del Ahorcado Vale!\n",
      "En este juego deberás adivinar las letras de una palabra, una a una.\n",
      "Tendrás 6 oportunidades para equivocarte. Elige bien!\n",
      "Tu palabra contiene 5 letras, comenzemos!\n"
     ]
    }
   ],
   "source": [
    "#intento 2\n",
    "## Damos la bienvenida al juego\n",
    "nombre = input('Primero, indícanos tu nombre')\n",
    "print(f'Bienvenido al juego del Ahorcado {nombre}!\\n'  \n",
    "      'En este juego deberás adivinar las letras de una palabra, una a una.\\n'\n",
    "      'Tendrás 6 oportunidades para equivocarte. Elige bien!')\n",
    "\n",
    "\n",
    "#elegimos la palabra\n",
    "\n",
    "palabra2 = ['burbujas', 'bostezar', 'gato', 'nadar']\n",
    "import random\n",
    "palabra_aleatoria = random.choice(palabra2)\n",
    "palabra_aleatoria_list = list(palabra_aleatoria)\n",
    "\n",
    "print(f'Tu palabra contiene', len(palabra_aleatoria_list), 'letras, comenzemos!')\n",
    "\n",
    "\n"
   ]
  },
  {
   "cell_type": "code",
   "execution_count": 3,
   "metadata": {},
   "outputs": [],
   "source": [
    "#funcion para mostrar las letras y los __\n",
    "def mostrar_palabra (palabra2, letras_adivinadas):\n",
    "    mostrar = ''\n",
    "    for letra in palabra2:\n",
    "        if letra in letras_adivinadas:\n",
    "            mostrar += letra\n",
    "        else:\n",
    "            mostrar += ' _'\n",
    "    return mostrar\n",
    "\n",
    "#el programa entiende por si solo donde poner la letra?"
   ]
  },
  {
   "cell_type": "code",
   "execution_count": 1,
   "metadata": {},
   "outputs": [
    {
     "ename": "NameError",
     "evalue": "name 'mostrar_palabra' is not defined",
     "output_type": "error",
     "traceback": [
      "\u001b[1;31m---------------------------------------------------------------------------\u001b[0m",
      "\u001b[1;31mNameError\u001b[0m                                 Traceback (most recent call last)",
      "Cell \u001b[1;32mIn[1], line 9\u001b[0m\n\u001b[0;32m      6\u001b[0m letras_incorrectas_set \u001b[38;5;241m=\u001b[39m \u001b[38;5;28mset\u001b[39m(letras_incorrectas)\n\u001b[0;32m      8\u001b[0m \u001b[38;5;28;01mwhile\u001b[39;00m intentos \u001b[38;5;241m<\u001b[39m \u001b[38;5;241m6\u001b[39m:\n\u001b[1;32m----> 9\u001b[0m       \u001b[38;5;28mprint\u001b[39m(\u001b[38;5;124m\"\u001b[39m\u001b[38;5;130;01m\\n\u001b[39;00m\u001b[38;5;124mPalabra: \u001b[39m\u001b[38;5;124m\"\u001b[39m \u001b[38;5;241m+\u001b[39m \u001b[43mmostrar_palabra\u001b[49m(palabra_aleatoria_list, letras_adivinadas)) \n\u001b[0;32m     11\u001b[0m       letra \u001b[38;5;241m=\u001b[39m \u001b[38;5;28minput\u001b[39m(\u001b[38;5;124m'\u001b[39m\u001b[38;5;124mElige una letra\u001b[39m\u001b[38;5;124m'\u001b[39m)\u001b[38;5;241m.\u001b[39mlower()\n\u001b[0;32m     12\u001b[0m       \u001b[38;5;28;01mif\u001b[39;00m \u001b[38;5;28mlen\u001b[39m(letra) \u001b[38;5;241m!=\u001b[39m \u001b[38;5;241m1\u001b[39m \u001b[38;5;129;01mor\u001b[39;00m \u001b[38;5;129;01mnot\u001b[39;00m letra\u001b[38;5;241m.\u001b[39misalpha():\n",
      "\u001b[1;31mNameError\u001b[0m: name 'mostrar_palabra' is not defined"
     ]
    }
   ],
   "source": [
    "#Preparamos el juego  ## mejorar esta parte\n",
    "intentos = 0\n",
    "letras_adivinadas = []\n",
    "letras_incorrectas = []\n",
    "letras_adivinadas_set = set(letras_adivinadas)\n",
    "letras_incorrectas_set = set(letras_incorrectas)\n",
    "\n",
    "while intentos < 6:\n",
    "      print(\"\\nPalabra: \" + mostrar_palabra(palabra_aleatoria_list, letras_adivinadas)) \n",
    "      \n",
    "      letra = input('Elige una letra').lower()\n",
    "      if len(letra) != 1 or not letra.isalpha():\n",
    "            print(\"Por favor, ingresa una única letra.\")\n",
    "            continue ## no se por que va el continue aqui\n",
    "      elif letra in letras_adivinadas:\n",
    "          print('Esta ya la has usado, elige una diferente')\n",
    "          continue\n",
    "      \n",
    "      elif letra in palabra_aleatoria_list:\n",
    "                    print('Correcto, sigue así!') ## como hacer que esto no se muestra si adivina la palabra\n",
    "                    letras_adivinadas_set.add(letra)\n",
    "                    if letras_adivinadas_set == palabra_aleatoria_list: \n",
    "                          print('Enhorabuena! Has adividnado la palabra\\n'\n",
    "                                'Quieres jugar otra vez? Y/N')        \n",
    "                  \n",
    "             ## como hacer que vuelva al a comenzar\n",
    "      else:\n",
    "          intentos +=1\n",
    "          dif_intentos = (6 - intentos)\n",
    "          print('Ups! una oportunidad menos, te quedan:', dif_intentos, 'intentos')\n",
    "          if letra not in palabra_aleatoria_list:\n",
    "                 letras_incorrectas_set.add(letra)\n",
    "          print ('Letras incorrectas:', letras_incorrectas_set)\n",
    "      \n",
    "    \n",
    "      \n",
    "\n",
    "if intentos == 6:\n",
    "     print('Lo siento! Has perdido')"
   ]
  },
  {
   "cell_type": "code",
   "execution_count": 1,
   "metadata": {},
   "outputs": [
    {
     "name": "stdout",
     "output_type": "stream",
     "text": [
      "Bienvenido al juego del Ahorcado !\n",
      "En este juego deberás adivinar las letras de una palabra, una a una.\n",
      "Tendrás 6 oportunidades para equivocarte. Elige bien!\n",
      "Tu palabra contiene 8 letras, comenzemos!\n",
      "\n",
      "Palabra:  _ _ _ _ _ _ _ _\n",
      "Por favor, ingresa una única letra.\n",
      "\n",
      "Palabra:  _ _ _ _ _ _ _ _\n",
      "Correcto, sigue así!\n",
      "\n",
      "Palabra: b _ _ _ _ _ _ _\n",
      "Esta ya la has usado, elige una diferente\n",
      "\n",
      "Palabra: b _ _ _ _ _ _ _\n",
      "Correcto, sigue así!\n",
      "\n",
      "Palabra: bo _ _ _ _ _ _\n",
      "Esta ya la has usado, elige una diferente\n",
      "\n",
      "Palabra: bo _ _ _ _ _ _\n",
      "Esta ya la has usado, elige una diferente\n",
      "\n",
      "Palabra: bo _ _ _ _ _ _\n",
      "Correcto, sigue así!\n",
      "\n",
      "Palabra: bos _ _ _ _ _\n",
      "Correcto, sigue así!\n",
      "\n",
      "Palabra: bost _ _ _ _\n",
      "Esta ya la has usado, elige una diferente\n",
      "\n",
      "Palabra: bost _ _ _ _\n",
      "Correcto, sigue así!\n",
      "\n",
      "Palabra: boste _ _ _\n",
      "Esta ya la has usado, elige una diferente\n",
      "\n",
      "Palabra: boste _ _ _\n",
      "Correcto, sigue así!\n",
      "\n",
      "Palabra: bostez _ _\n",
      "Correcto, sigue así!\n",
      "\n",
      "Palabra: bosteza _\n",
      "Esta ya la has usado, elige una diferente\n",
      "\n",
      "Palabra: bosteza _\n",
      "Esta ya la has usado, elige una diferente\n",
      "\n",
      "Palabra: bosteza _\n",
      "Correcto, sigue así!\n",
      "\n",
      "Palabra: bostezar\n",
      "Esta ya la has usado, elige una diferente\n",
      "\n",
      "Palabra: bostezar\n",
      "Esta ya la has usado, elige una diferente\n",
      "\n",
      "Palabra: bostezar\n"
     ]
    }
   ],
   "source": [
    "#unificando el codigo:\n",
    "\n",
    "## Damos la bienvenida al juego\n",
    "nombre = input('Primero, indícanos tu nombre')\n",
    "print(f'Bienvenido al juego del Ahorcado {nombre}!\\n'  \n",
    "      'En este juego deberás adivinar las letras de una palabra, una a una.\\n'\n",
    "      'Tendrás 6 oportunidades para equivocarte. Elige bien!')\n",
    "\n",
    "\n",
    "#elegimos la palabra\n",
    "\n",
    "palabra2 = ['burbujas', 'bostezar', 'gato', 'nadar']\n",
    "import random\n",
    "palabra_aleatoria = random.choice(palabra2)\n",
    "palabra_aleatoria_list = list(palabra_aleatoria)\n",
    "\n",
    "print(f'Tu palabra contiene', len(palabra_aleatoria_list), 'letras, comenzemos!')\n",
    "\n",
    "#funcion para cambiar __ por letras\n",
    "def mostrar_palabra (palabra_aleatoria, letras_adivinadas):\n",
    "    mostrar = ''\n",
    "    for letra in palabra_aleatoria_list:\n",
    "        if letra in letras_adivinadas:\n",
    "            mostrar += letra\n",
    "        else:\n",
    "            mostrar += ' _'\n",
    "    return mostrar\n",
    "\n",
    "\n",
    "#juego\n",
    "#Preparamos el juego  ## mejorar esta parte\n",
    "intentos = 0\n",
    "letras_adivinadas = set()\n",
    "letras_incorrectas = set()\n",
    "\n",
    "\n",
    "while intentos < 6:\n",
    "      print(\"\\nPalabra: \" + mostrar_palabra(palabra_aleatoria_list, letras_adivinadas)) \n",
    "      \n",
    "      letra = input('Elige una letra').lower()\n",
    "      if len(letra) != 1 or not letra.isalpha():\n",
    "            print(\"Por favor, ingresa una única letra.\")\n",
    "            continue ## no se por que va el continue aqui\n",
    "      elif letra in letras_adivinadas:\n",
    "          print('Esta ya la has usado, elige una diferente')\n",
    "          continue\n",
    "      \n",
    "      elif letra in palabra_aleatoria_list:\n",
    "                    print('Correcto, sigue así!') ## como hacer que esto no se muestra si adivina la palabra\n",
    "                    letras_adivinadas.add(letra)\n",
    "                    if letras_adivinadas == palabra_aleatoria_list: \n",
    "                          print('Enhorabuena! Has adividnado la palabra\\n'\n",
    "                                'Quieres jugar otra vez? Y/N')        \n",
    "                  \n",
    "             ## como hacer que vuelva al a comenzar\n",
    "      else:\n",
    "          intentos +=1\n",
    "          dif_intentos = (6 - intentos)\n",
    "          print('Ups! una oportunidad menos, te quedan:', dif_intentos, 'intentos')\n",
    "          if letra not in palabra_aleatoria_list:\n",
    "                 letras_incorrectas.add(letra)\n",
    "          print ('Letras incorrectas:', letras_incorrectas)\n",
    "    \n",
    "      \n",
    "\n",
    "if intentos == 6:\n",
    "     print('Lo siento! Has perdido')"
   ]
  }
 ],
 "metadata": {
  "kernelspec": {
   "display_name": "Python 3",
   "language": "python",
   "name": "python3"
  },
  "language_info": {
   "codemirror_mode": {
    "name": "ipython",
    "version": 3
   },
   "file_extension": ".py",
   "mimetype": "text/x-python",
   "name": "python",
   "nbconvert_exporter": "python",
   "pygments_lexer": "ipython3",
   "version": "3.11.3"
  }
 },
 "nbformat": 4,
 "nbformat_minor": 2
}
