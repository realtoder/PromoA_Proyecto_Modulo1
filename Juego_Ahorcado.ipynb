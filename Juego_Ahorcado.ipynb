{
 "cells": [
  {
   "cell_type": "markdown",
   "metadata": {},
   "source": [
    "Ahoracado: es un juego de adivinanzas en el que un jugador elige una palabra y el otro jugador debe adivinarla letra por letra. \n",
    "El jugador que adivina la palabra tiene un número limitado de oportunidades para adivinar las letras que forman la palabra. \n",
    "Cada vez que el jugador adivina una letra incorrecta, se dibuja una parte del cuerpo del personaje del ahorcado en una horca. \n",
    "Si el jugador adivina todas las letras de la palabra antes de que se complete el dibujo del personaje del ahorcado, gana el juego. \n",
    "Si el dibujo del personaje del ahorcado se completa antes de adivinar la palabra, pierde el juego."
   ]
  },
  {
   "cell_type": "code",
   "execution_count": null,
   "metadata": {},
   "outputs": [],
   "source": [
    "#Paso 1: Asignamos una palabra aleatoria\n",
    "#Dividimos la palabra en letras --> Lista de letras\n",
    "# El jugador avidina letra por letra\n",
    "########## - si es incorrecta, se dibuja una parte del cuerpo del personaje. Se guarda la letra en una variable de letras malas?\n",
    "########## - si es correcta, se muestras todas las letras que coincidan en la palabra y se guarda en una variables de letras mencionadas?\n",
    "#la cantidad de oportunidades del jugador depende del dibujo del ahorcado\n",
    "#el jugador sigue jugando en la medida que el ahorcado no se complete"
   ]
  },
  {
   "cell_type": "code",
   "execution_count": 2,
   "metadata": {},
   "outputs": [
    {
     "data": {
      "text/plain": [
       "['b', 'u', 'r', 'b', 'u', 'j', 'a', 's']"
      ]
     },
     "execution_count": 2,
     "metadata": {},
     "output_type": "execute_result"
    }
   ],
   "source": [
    "#Preparamos nuestra palabra\n",
    "palabra = 'burbujas'\n",
    "list_palabra = list(palabra)\n",
    "list_palabra"
   ]
  },
  {
   "cell_type": "code",
   "execution_count": 7,
   "metadata": {},
   "outputs": [
    {
     "name": "stdout",
     "output_type": "stream",
     "text": [
      "z\n"
     ]
    }
   ],
   "source": [
    "letra = input('Elige una letra')\n",
    "print(letra)\n"
   ]
  },
  {
   "cell_type": "code",
   "execution_count": 8,
   "metadata": {},
   "outputs": [],
   "source": [
    "if letra in list_palabra:\n",
    "    print('Correcto! Sigue así!')"
   ]
  },
  {
   "cell_type": "code",
   "execution_count": null,
   "metadata": {},
   "outputs": [],
   "source": [
    "#Preparamos el juego\n",
    "intentos = #numero de partes del cuerpo?\n",
    "\n",
    "#While intentos < X:\n",
    "\n",
    "letra = input('Elige una letra')\n",
    "    ## si la letra es correcta:\n",
    "#print('Correcto! Sigue así!')\n",
    "\n",
    "    ## si la letra no es correcta:\n",
    "#Print ('Ups! una oportunidad menos')\n"
   ]
  },
  {
   "cell_type": "code",
   "execution_count": 2,
   "metadata": {},
   "outputs": [
    {
     "name": "stdout",
     "output_type": "stream",
     "text": [
      "Correcto! Sigue así!\n",
      "Ups! una oportunidad menos\n"
     ]
    }
   ],
   "source": [
    "#intento 1\n",
    "palabra = 'burbujas'\n",
    "list_palabra = list(palabra)\n",
    "list_palabra\n",
    "\n",
    "intentos = 0\n",
    "\n",
    "while intentos < 6:\n",
    "    letra = input('Elige una letra')\n",
    "    if letra in list_palabra:\n",
    "          print('Correcto! Sigue así!')\n",
    "    else: \n",
    "          print('Ups! una oportunidad menos')\n",
    "          intentos +=1\n",
    "if intentos == 6:\n",
    "     print('Lo siento! te has ahorcado')\n",
    "\n"
   ]
  },
  {
   "cell_type": "code",
   "execution_count": 1,
   "metadata": {},
   "outputs": [
    {
     "name": "stdout",
     "output_type": "stream",
     "text": [
      "nadar\n",
      "['n', 'a', 'd', 'a', 'r']\n",
      "Ups! una oportunidad menos, te quedan: 5 intentos\n",
      "Ups! una oportunidad menos, te quedan: 4 intentos\n",
      "Ups! una oportunidad menos, te quedan: 3 intentos\n",
      "Ups! una oportunidad menos, te quedan: 2 intentos\n",
      "Ups! una oportunidad menos, te quedan: 1 intentos\n",
      "Ups! una oportunidad menos, te quedan: 0 intentos\n",
      "Lo siento! te has ahorcado\n"
     ]
    }
   ],
   "source": [
    "#intento 2\n",
    "## preparamos el juego\n",
    "palabra2 = ['burbujas', 'bostezar', 'gato', 'nadar']\n",
    "import random\n",
    "palabra_aleatoria = random.choice(palabra2)\n",
    "print(palabra_aleatoria)\n",
    "\n",
    "palabra_aleatoria_list = list(palabra_aleatoria)\n",
    "print (palabra_aleatoria_list)\n",
    "\n",
    "#comenzamos el juego\n",
    "intentos = 0\n",
    " ## mejorar esta parte\n",
    "\n",
    "while intentos < 6:\n",
    "    letra = input('Elige una letra')\n",
    "    if letra in palabra_aleatoria_list:\n",
    "          print('Correcto! Sigue así!')\n",
    "    else: \n",
    "          intentos +=1\n",
    "          dif_intentos = (6 - intentos)\n",
    "          print('Ups! una oportunidad menos, te quedan:', dif_intentos, 'intentos')\n",
    "          \n",
    "if intentos == 6:\n",
    "     print('Lo siento! te has ahorcado')\n",
    "\n"
   ]
  },
  {
   "cell_type": "code",
   "execution_count": null,
   "metadata": {},
   "outputs": [],
   "source": []
  }
 ],
 "metadata": {
  "kernelspec": {
   "display_name": "Python 3",
   "language": "python",
   "name": "python3"
  },
  "language_info": {
   "codemirror_mode": {
    "name": "ipython",
    "version": 3
   },
   "file_extension": ".py",
   "mimetype": "text/x-python",
   "name": "python",
   "nbconvert_exporter": "python",
   "pygments_lexer": "ipython3",
   "version": "3.11.3"
  }
 },
 "nbformat": 4,
 "nbformat_minor": 2
}
