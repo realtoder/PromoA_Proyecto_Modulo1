{
 "cells": [
  {
   "cell_type": "markdown",
   "metadata": {},
   "source": [
    "1. Damos la bienvenida al usuario."
   ]
  },
  {
   "cell_type": "code",
   "execution_count": 72,
   "metadata": {},
   "outputs": [
    {
     "name": "stdout",
     "output_type": "stream",
     "text": [
      "Bienvenido al juego de Preguntas y Respuestas, edición especial Geografía\n",
      "Hola T\n"
     ]
    }
   ],
   "source": [
    "print(\"Bienvenido al juego de Preguntas y Respuestas, edición especial Geografía\")\n",
    "#Le preguntamos al usuario su nombre\n",
    "nombre = input(\"Antes de empezar a jugar dinos tu nombre\")\n",
    "print(\"Hola\", nombre)\n",
    "               "
   ]
  },
  {
   "cell_type": "markdown",
   "metadata": {},
   "source": [
    "2. Creamos un diccionario con las preguntas de geografía como claves y las respuestas como valores"
   ]
  },
  {
   "cell_type": "code",
   "execution_count": 73,
   "metadata": {},
   "outputs": [
    {
     "data": {
      "text/plain": [
       "{'¿Cuál es la capital de España?': 'Madrid',\n",
       " 'Con qué país limita España por el oeste': 'Portugal',\n",
       " '¿Qué río pasa por París': 'El Sena',\n",
       " '¿Qué país es más grande: España o Alemania?': 'España',\n",
       " '¿En qué país se encuentra la provincia de Jujuy': 'Argentina',\n",
       " '¿Qué cordillera separa Argentina de Chile': 'Los Andes',\n",
       " '¿Cuál es la capital de Brasil': 'Brasilia',\n",
       " '¿Cuántos estados tiene Estados Unidos': 50,\n",
       " '¿Cuántos idiomas oficiales tiene Canadá?': 2,\n",
       " '¿Qué estrecho separa Asia de América?': 'Bering'}"
      ]
     },
     "execution_count": 73,
     "metadata": {},
     "output_type": "execute_result"
    }
   ],
   "source": [
    "#Creamos el diccionario con las preguntas como clave y las respuestas como valor.\n",
    "diccionario = {\"¿Cuál es la capital de España?\": \"Madrid\", \"Con qué país limita España por el oeste\": \"Portugal\", \"¿Qué río pasa por París\": \"El Sena\", \"¿Qué país es más grande: España o Alemania?\":\"España\", \"¿En qué país se encuentra la provincia de Jujuy\":\"Argentina\", \"¿Qué cordillera separa Argentina de Chile\":\"Los Andes\", \"¿Cuál es la capital de Brasil\": \"Brasilia\", \"¿Cuántos estados tiene Estados Unidos\" : 50, \"¿Cuántos idiomas oficiales tiene Canadá?\": 2, \"¿Qué estrecho separa Asia de América?\": \"Bering\"}\n",
    "diccionario"
   ]
  },
  {
   "cell_type": "code",
   "execution_count": 74,
   "metadata": {},
   "outputs": [
    {
     "name": "stdout",
     "output_type": "stream",
     "text": [
      "['¿Cuál es la capital de España?', 'Con qué país limita España por el oeste', '¿Qué río pasa por París', '¿Qué país es más grande: España o Alemania?', '¿En qué país se encuentra la provincia de Jujuy', '¿Qué cordillera separa Argentina de Chile', '¿Cuál es la capital de Brasil', '¿Cuántos estados tiene Estados Unidos', '¿Cuántos idiomas oficiales tiene Canadá?', '¿Qué estrecho separa Asia de América?']\n",
      "['Madrid', 'Portugal', 'El Sena', 'España', 'Argentina', 'Los Andes', 'Brasilia', 50, 2, 'Bering']\n"
     ]
    }
   ],
   "source": [
    "#Creamos dos listas, una con las Keys y otra con los valores\n",
    "lista_Keys = list(diccionario.keys())\n",
    "print(lista_Keys)\n",
    "lista_values = list(diccionario.values())\n",
    "print(lista_values)"
   ]
  },
  {
   "cell_type": "markdown",
   "metadata": {},
   "source": [
    "3. Establecemos las condiciones necesarias para jugar."
   ]
  },
  {
   "cell_type": "code",
   "execution_count": 79,
   "metadata": {},
   "outputs": [
    {
     "name": "stdout",
     "output_type": "stream",
     "text": [
      "¡Comienza el juego!\n"
     ]
    }
   ],
   "source": [
    "#Establecemos las variables necesarias para jugar.\n",
    "errores = 3\n",
    "aciertos = 0\n",
    "respuesta_correcta = lista_values\n",
    "contador = 0\n",
    "\n",
    "#Creamos la primera gran condición, si quiere comenzar a jugar o no.\n",
    "partida = input(\"¿Comenzamos?: S/N\")\n",
    "if partida.upper() == \"S\":\n",
    "    print(\"¡Comienza el juego!\")\n",
    "else:\n",
    "    print(\"Ok\", nombre, \"el juego no se va a borrar del mapa así que vuelve cuando quieras comezar a jugar\")\n"
   ]
  },
  {
   "cell_type": "code",
   "execution_count": 93,
   "metadata": {},
   "outputs": [
    {
     "data": {
      "text/plain": [
       "'Madrid'"
      ]
     },
     "execution_count": 93,
     "metadata": {},
     "output_type": "execute_result"
    }
   ],
   "source": [
    "#Haremos la primera pregunta al usuario, con la que obtendremos la primera respuesta\n",
    "respuesta_usuario = input(\"Responde a la primera pregunta\" + \" \" + lista_Keys[0])\n",
    "respuesta_usuario"
   ]
  },
  {
   "cell_type": "code",
   "execution_count": 94,
   "metadata": {},
   "outputs": [
    {
     "name": "stdout",
     "output_type": "stream",
     "text": [
      "La respuesta correcta era: Madrid\n"
     ]
    }
   ],
   "source": [
    "#En función de la respuesta establecemos la primera condición anidada\n",
    "if respuesta_usuario.capitalize() == respuesta_correcta:\n",
    "        print(\"¡Correcto! Sumas\", aciertos, \"aciertos\")\n",
    "        aciertos += contador\n",
    "        contador += 1\n",
    "else:\n",
    "        print(\"La respuesta correcta era:\", lista_values[0])\n",
    "        errores += contador\n",
    "        contador += 1"
   ]
  },
  {
   "cell_type": "code",
   "execution_count": null,
   "metadata": {},
   "outputs": [],
   "source": [
    "#Mientras el contador de errores es menor a 3, el juego seguirá haciendo preguntas al usuario.\n",
    "while errores < 3 :"
   ]
  }
 ],
 "metadata": {
  "kernelspec": {
   "display_name": "Python 3",
   "language": "python",
   "name": "python3"
  },
  "language_info": {
   "codemirror_mode": {
    "name": "ipython",
    "version": 3
   },
   "file_extension": ".py",
   "mimetype": "text/x-python",
   "name": "python",
   "nbconvert_exporter": "python",
   "pygments_lexer": "ipython3",
   "version": "3.11.5"
  }
 },
 "nbformat": 4,
 "nbformat_minor": 2
}
