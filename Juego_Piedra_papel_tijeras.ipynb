{
 "cells": [
  {
   "cell_type": "markdown",
   "metadata": {},
   "source": [
    "# Piedra Papel & Tijera\n",
    "\n",
    "- Reglas del Juego \"Piedra, Papel y Tijera\":\n",
    "\n",
    "    - Dos jugadores eligen una de las tres opciones: \"Piedra\", \"Papel\" o \"Tijera\".\n",
    "\n",
    "    - Las reglas para determinar al ganador son:\n",
    "        \n",
    "        - Piedra vence a Tijera.\n",
    "\n",
    "        - Tijera vence a Papel.\n",
    "\n",
    "        - Papel vence a Piedra.\n",
    "\n",
    "        - El jugador que gana una ronda obtiene un punto.\n",
    "        \n",
    "        - El juego continúa hasta que un jugador haya acumulado 3 puntos, convirtiéndose en el ganador.\n",
    "\n",
    "\n",
    "- Pistas para las alumnas:\n",
    "\n",
    "    1. Comienza por definir el número de puntos objetivo que se deben alcanzar para ganar el juego.\n",
    "\n",
    "    2. Implementa una función que obtenga la elección del jugador y valide que sea una de las opciones válidas (\"Piedra\", \"Papel\" o \"Tijera\").\n",
    "\n",
    "    3. Utiliza un bucle `while` para llevar un registro de los puntos de cada jugador y continuar el juego hasta que se alcance el número de puntos objetivo.\n",
    "\n",
    "    4. Genera una elección aleatoria para el segundo jugador (la computadora) utilizando el módulo `random`.\n",
    "\n",
    "    5. Determina al ganador de cada ronda y actualiza los puntos correspondientes.\n",
    "\n",
    "    6. Verifica si algún jugador ha alcanzado el número de puntos objetivo y finalicen el juego cuando eso suceda."
   ]
  },
  {
   "cell_type": "markdown",
   "metadata": {},
   "source": [
    "**PSEUDO CÓDIGO**\n"
   ]
  },
  {
   "cell_type": "markdown",
   "metadata": {},
   "source": [
    "opcion_jugador\n",
    "\n",
    "opcion_maquina (random??)\n",
    "                \n",
    "                \n",
    "\n",
    "        Si la opción del jugador es igual a la del ordenador:\n",
    "            Print (‘¡Empate!’)\n",
    "\n",
    "        Si la opción del jugador es \"piedra”:\n",
    "            Si la opción de la máquina es \"tijera\":\n",
    "                Print(‘¡Has ganado! La piedra rompe la tijera).”\n",
    "            Else:\n",
    "                Print(‘¡Has perdido! El papel envuelve la piedra’) \n",
    "\n",
    "        Si la opción del jugador es \"papel\":\n",
    "            Si la opción del ordenador es \"piedra\":\n",
    "                Print(‘¡Has ganado! El papel envuelve a la piedra’)\n",
    "            Else:\n",
    "                Print(‘¡Has perdido! Las tijeras cortan el papel’)\n",
    "        \n",
    "\tSi la opción del usuario es ‘tijera’: \n",
    "\t\tSi jugada de la computadora es \"papel\" entonces:\n",
    "                Print(‘¡Has ganado!’ La tijera corta el papel’)\n",
    "            Else:\n",
    "                Print(‘¡Has perdido! La piedra rompe la tijera’)\n",
    "\n",
    "   "
   ]
  },
  {
   "cell_type": "markdown",
   "metadata": {},
   "source": [
    "**EMPEZAMOS CON EL CÓDIGO DE VERDAD**"
   ]
  },
  {
   "cell_type": "code",
   "execution_count": null,
   "metadata": {},
   "outputs": [],
   "source": [
    "jugador = input( 'piedra, papel, tijera ')\n",
    "jugador = jugador.lower()\n",
    "ordenador = random.choice(opciones"
   ]
  },
  {
   "cell_type": "code",
   "execution_count": null,
   "metadata": {},
   "outputs": [],
   "source": []
  },
  {
   "cell_type": "code",
   "execution_count": 4,
   "metadata": {},
   "outputs": [
    {
     "name": "stdout",
     "output_type": "stream",
     "text": [
      "Hola Reyes ¡empecemos a jugar!\n",
      "Los dos habéis escogido piedra. Vais empatados a 0\n",
      "Has perdido: la tijera corta el papel. Vais 0 - 1\n",
      "Los dos habéis escogido tijera. Vais empatados a 0\n",
      "Opción inválida. Escoge entre piedra, papel o tijera\n",
      "Los dos habéis escogido piedra. Vais empatados a 0\n",
      "Los dos habéis escogido tijera. Vais empatados a 0\n",
      "Has ganado: el papel envuelve a la piedra. Vais 1 - 1\n",
      "Has ganado: la piedra rompe la tijera. Vais 2 - 1\n",
      "Has perdido: el papel envuelve a la piedra. Vais 2 - 2\n",
      "Has perdido: el papel envuelve a la piedra. Vais 2 - 3\n",
      "¡Lo sentimos, Reyes, has perdido el juego! El resultado final es 2 - 3 ¡Vuelve a intentarlo!\n"
     ]
    }
   ],
   "source": [
    "import random\n",
    "\n",
    "puntos_jugador = 0\n",
    "puntos_ordenador = 0\n",
    "opciones = ('piedra','papel','tijera') \n",
    "\n",
    "nombre = input('¿Cómo te llamas?')\n",
    "print('Hola', nombre, '¡empecemos a jugar!')\n",
    "\n",
    "while puntos_jugador < 3 and puntos_ordenador < 3:\n",
    "  jugador = input('Elige opción').lower()\n",
    "  ordenador = random.choice(opciones)\n",
    "\n",
    "  if jugador not in opciones:\n",
    "    print('Opción inválida. Escoge entre piedra, papel o tijera')\n",
    "    \n",
    "  else:\n",
    "\n",
    "    if jugador == ordenador:\n",
    "      print(f'Los dos habéis escogido {jugador}. Vais empatados a {puntos_jugador}')\n",
    "    elif jugador == 'piedra':\n",
    "      if ordenador == 'tijera':\n",
    "        puntos_jugador += 1 \n",
    "        print(f\"Has ganado: la piedra rompe la tijera. Vais {puntos_jugador} - {puntos_ordenador}\")\n",
    "      else:\n",
    "        puntos_ordenador +=1\n",
    "        print(f\"Has perdido: el papel envuelve a la piedra. Vais {puntos_jugador} - {puntos_ordenador}\")\n",
    "    elif jugador == 'papel':\n",
    "      if ordenador == 'piedra':\n",
    "        puntos_jugador +=1\n",
    "        print(f\"Has ganado: el papel envuelve a la piedra. Vais {puntos_jugador} - {puntos_ordenador}\")\n",
    "      else:\n",
    "        puntos_ordenador +=1\n",
    "        print(f\"Has perdido: la tijera corta el papel. Vais {puntos_jugador} - {puntos_ordenador}\")\n",
    "      \n",
    "    elif jugador == 'tijera':\n",
    "      if ordenador == 'papel':\n",
    "        puntos_jugador +=1\n",
    "        print(f\"Has ganado: la tijera corta el papel. Vais {puntos_jugador} - {puntos_ordenador}\")\n",
    "      else:\n",
    "        puntos_ordenador +=1\n",
    "        print(f\"Has perdido: la piedra rompe la tijera. Vais {puntos_jugador} - {puntos_ordenador}\")\n",
    "\n",
    "\n",
    "if puntos_jugador > puntos_ordenador:\n",
    "    print(f'¡Enhorabuena, {nombre}, has ganado el juego! El resultado final es {puntos_jugador} - {puntos_ordenador}')\n",
    "    \n",
    "\n",
    "else:\n",
    "    print(f'¡Lo sentimos, {nombre}, has perdido el juego! El resultado final es {puntos_jugador} - {puntos_ordenador} ¡Vuelve a intentarlo!')\n",
    "    "
   ]
  },
  {
   "cell_type": "markdown",
   "metadata": {},
   "source": [
    "**ESTE CÓDIGO TIENE DOS PROBLEMAS**\n",
    "1) Al final ocurre esto:\n",
    "\n",
    "(print1): Has perdido: el papel envuelve a la piedra. Vais 2 - 3\n",
    "(print2) ¡Lo sentimos, Reyes, has perdido el juego! El resultado final es 2 - 3 ¡Vuelve a intentarlo!\n",
    "\n",
    "Me gustaría que saliera solamente el mensaje 2\n",
    "\n",
    "\n",
    "2) Si se escoge una opción inválida, el juego vuelve a empezar con el marcador a O. Hay que poner el print(opción inválida) en otro sitio!"
   ]
  },
  {
   "cell_type": "markdown",
   "metadata": {},
   "source": [
    "**FALTA**\n",
    "\n",
    "- Definir el número de puntos objetivo que se deben alcanzar para ganar el juego\n",
    "- Actualizar los puntos obtenidos en cada ronda\n",
    "- Utilizar un bucle while para llevar un registro de los puntos de cada jugador y continuar el juego hasta que se alcance el número de puntos objetivo.\n",
    "- Verificar si algún jugador ha alcanzado el el número de puntos objetivo y finalicen el juego cuando eso suceda. \n",
    "\n",
    "\n"
   ]
  }
 ],
 "metadata": {
  "kernelspec": {
   "display_name": "base",
   "language": "python",
   "name": "python3"
  },
  "language_info": {
   "codemirror_mode": {
    "name": "ipython",
    "version": 3
   },
   "file_extension": ".py",
   "mimetype": "text/x-python",
   "name": "python",
   "nbconvert_exporter": "python",
   "pygments_lexer": "ipython3",
   "version": "3.9.6"
  }
 },
 "nbformat": 4,
 "nbformat_minor": 2
}
