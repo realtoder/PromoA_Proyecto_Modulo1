{
 "cells": [
  {
   "cell_type": "code",
   "execution_count": null,
   "metadata": {},
   "outputs": [],
   "source": []
  },
  {
   "cell_type": "markdown",
   "metadata": {},
   "source": [
    "**PSEUDO CÓDIGO**\n"
   ]
  },
  {
   "cell_type": "code",
   "execution_count": null,
   "metadata": {},
   "outputs": [],
   "source": [
    "opcion_jugador\n",
    "\n",
    "opcion_maquina (random??)\n",
    "\n",
    "        Si la opción del jugador es igual a la de la máquina:\n",
    "            Print (‘¡Empate!’)\n",
    "\n",
    "        Si la opción del jugador es \"piedra”:\n",
    "            Si la opción de la máquina es \"tijeras\":\n",
    "                Print(‘¡Has ganado! La piedra rompe las tijeras).”\n",
    "            Else:\n",
    "                Print(‘¡Has perdido! El papel envuelve la piedra’) \n",
    "\n",
    "        Si la opción del jugador es \"papel\":\n",
    "            Si la opción del ordenador es \"piedra\":\n",
    "                Print(‘¡Has ganado! El papel envuelve a la piedra’)\n",
    "            Else:\n",
    "                Print(‘¡Has perdido! Las tijeras cortan el papel’)\n",
    "        \n",
    "\tSi la opción del usuario es ‘tijeras’: \n",
    "\t\tSi jugada de la computadora es \"papel\" entonces:\n",
    "                Print(‘¡Has ganado!’ Las tijeras cortan el papel’)\n",
    "            Else:\n",
    "                Print(‘¡Has perdido! La piedra rompe las tijeras’)\n",
    "\n",
    "   \n",
    "        "
   ]
  }
 ],
 "metadata": {
  "language_info": {
   "name": "python"
  }
 },
 "nbformat": 4,
 "nbformat_minor": 2
}
