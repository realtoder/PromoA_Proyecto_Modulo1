{
 "cells": [
  {
   "cell_type": "markdown",
   "metadata": {},
   "source": [
    "PSEUDO CÓDIGO\n",
    "\n",
    "\n",
    "Crear el diccionario de preguntas y respuestas\n",
    "Crear cabecera\n",
    "Mensaje de bienvenida personalizado\n",
    "Contra la máquina\n",
    "3 errores o 5 aciertos\n",
    "Crear mensajes "
   ]
  }
 ],
 "metadata": {
  "language_info": {
   "name": "python"
  }
 },
 "nbformat": 4,
 "nbformat_minor": 2
}
