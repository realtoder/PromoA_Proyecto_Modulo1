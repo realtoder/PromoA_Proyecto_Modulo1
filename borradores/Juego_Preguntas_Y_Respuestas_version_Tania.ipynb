{
 "cells": [
  {
   "cell_type": "markdown",
   "metadata": {},
   "source": [
    "1. Damos la bienvenida al usuario."
   ]
  },
  {
   "cell_type": "code",
   "execution_count": 1,
   "metadata": {},
   "outputs": [
    {
     "name": "stdout",
     "output_type": "stream",
     "text": [
      "Bienvenido al juego de Preguntas y Respuestas, edición especial Geografía\n",
      "Hola Reyes\n"
     ]
    }
   ],
   "source": [
    "print(\"Bienvenido al juego de Preguntas y Respuestas, edición especial Geografía\")\n",
    "#Podemos preguntarle por su nombre, pero es algo opcional\n",
    "nombre = input(\"Antes de empezar a jugar dinos tu nombre\")\n",
    "print(\"Hola\", nombre)\n",
    "\n",
    "        \n",
    "\n",
    "               "
   ]
  },
  {
   "cell_type": "markdown",
   "metadata": {},
   "source": [
    "2. Creamos un diccionario con las preguntas de geografía como claves y las respuestas como valores"
   ]
  },
  {
   "cell_type": "code",
   "execution_count": null,
   "metadata": {},
   "outputs": [
    {
     "data": {
      "text/plain": [
       "{'¿Cuál es la capital de España?': 'Madrid',\n",
       " 'Con qué países limita España': ['Andorra', 'Portugal'],\n",
       " '¿Qué río pasa por París': 'El Sena',\n",
       " '¿Qué país es más grande: España o Alemania?': 'España',\n",
       " '¿En qué país se encuentra la provincia de Jujuy': 'Argentina',\n",
       " '¿Qué cordillera separa Argentina de Chile': 'Los Andes',\n",
       " '¿Cuál es la capital de Brasil': 'Brasilia',\n",
       " '¿Cuántos estados tiene Estados Unidos': 48,\n",
       " '¿Cuántos idiomas oficiales tiene Canadá?': 2,\n",
       " '¿Qué continentes separa el Estrecho de Bering': ['Asia', 'América']}"
      ]
     },
     "execution_count": 56,
     "metadata": {},
     "output_type": "execute_result"
    }
   ],
   "source": [
    "#Creamos el diccionario con las preguntas como clave y las respuestas como valor.\n",
    "preguntas = {\"¿Cuál es la capital de España?\": \"Madrid\", \"Con qué países limita España\":[\"Andorra\", \"Portugal\"], \"¿Qué río pasa por París\": \"El Sena\", \"¿Qué país es más grande: España o Alemania?\":\"España\", \"¿En qué país se encuentra la provincia de Jujuy\":\"Argentina\", \"¿Qué cordillera separa Argentina de Chile\":\"Los Andes\", \"¿Cuál es la capital de Brasil\": \"Brasilia\", \"¿Cuántos estados tiene Estados Unidos\" : 48, \"¿Cuántos idiomas oficiales tiene Canadá?\": 2, \"¿Qué continentes separa el Estrecho de Bering\": [\"Asia\",\"América\"]}\n",
    "preguntas\n",
    "\n"
   ]
  },
  {
   "cell_type": "markdown",
   "metadata": {},
   "source": [
    "3. Establecemos las condiciones necesarias para jugar."
   ]
  },
  {
   "cell_type": "code",
   "execution_count": null,
   "metadata": {},
   "outputs": [
    {
     "name": "stdout",
     "output_type": "stream",
     "text": [
      "\n",
      "Madrid\n"
     ]
    }
   ],
   "source": [
    "#Establecemos el contador de errores y el de aciertos. Si el contador de errores es menor a 3, el juego seguirá haciendo preguntas al usuario.\n",
    "errores = 3\n",
    "aciertos = 0\n",
    "\n",
    "#Creamos la primera gran condición, si quiere comenzar a jugar o no.\n",
    "partida = input(\"¿Comenzamos?: S/N\")\n",
    "if partida.upper() == \"S\":\n",
    "    while errores < 3 :\n",
    "          respuesta = input(\"Primera pregunta:\", list(preguntas.keys())[0])\n",
    "    print(respuesta)\n",
    "    if respuesta == list(preguntas.values())[0]:\n",
    "            aciertos += 1\n",
    "            print(\"¡Correcto! Sumas\", aciertos, \"aciertos\")\n",
    "    else:\n",
    "            print(list(preguntas.values())[0])\n",
    "            errores += 1\n",
    "\n",
    "else:\n",
    "    print(\"Ok\", nombre, \"el juego no se va a borrar del mapa así que vuelve cuando quieras comezar a jugar\")"
   ]
  }
 ],
 "metadata": {
  "kernelspec": {
   "display_name": "Python 3",
   "language": "python",
   "name": "python3"
  },
  "language_info": {
   "codemirror_mode": {
    "name": "ipython",
    "version": 3
   },
   "file_extension": ".py",
   "mimetype": "text/x-python",
   "name": "python",
   "nbconvert_exporter": "python",
   "pygments_lexer": "ipython3",
   "version": "3.11.3"
  }
 },
 "nbformat": 4,
 "nbformat_minor": 2
}
